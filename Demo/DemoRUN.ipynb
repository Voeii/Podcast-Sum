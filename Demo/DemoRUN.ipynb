{
 "cells": [
  {
   "cell_type": "code",
   "execution_count": 1,
   "metadata": {},
   "outputs": [
    {
     "name": "stderr",
     "output_type": "stream",
     "text": [
      "c:\\Users\\serix\\AppData\\Local\\Programs\\Python\\Python311\\Lib\\site-packages\\tqdm\\auto.py:21: TqdmWarning: IProgress not found. Please update jupyter and ipywidgets. See https://ipywidgets.readthedocs.io/en/stable/user_install.html\n",
      "  from .autonotebook import tqdm as notebook_tqdm\n"
     ]
    },
    {
     "name": "stdout",
     "output_type": "stream",
     "text": [
      "WARNING:tensorflow:From c:\\Users\\serix\\AppData\\Local\\Programs\\Python\\Python311\\Lib\\site-packages\\tf_keras\\src\\losses.py:2976: The name tf.losses.sparse_softmax_cross_entropy is deprecated. Please use tf.compat.v1.losses.sparse_softmax_cross_entropy instead.\n",
      "\n"
     ]
    }
   ],
   "source": [
    "from transformers import BartTokenizer, TFBartForConditionalGeneration\n",
    "import whisper\n",
    "import gradio as gr\n",
    "model = whisper.load_model(\"base.en\")\n",
    "\n",
    "def summarize(transcript):\n",
    "    model_dir = \"FT_model\"\n",
    "    tokenizer = BartTokenizer.from_pretrained(\"FT_model/tokenizer\")\n",
    "    model = TFBartForConditionalGeneration.from_pretrained(model_dir)\n",
    "\n",
    "    input_ids = tokenizer(transcript, truncation=True, return_tensors=\"pt\").input_ids\n",
    "\n",
    "    gens = {\n",
    "        \"length_penalty\": 2.0,\n",
    "        \"num_beams\": 4,\n",
    "        \"no_repeat_ngram_size\": 3,\n",
    "        \"min_length\": 39,\n",
    "        \"max_length\": 250\n",
    "    }\n",
    "    outputs = model.generate(input_ids, **gens)\n",
    "    summ = tokenizer.decode(outputs[0], skip_special_tokens=True)\n",
    "    return summ\n",
    "\n",
    "def transcribe_sum(audio_file):\n",
    "    result = model.transcribe(audio_file)\n",
    "    with open(\"transcript.txt\", \"w\") as file:\n",
    "        file.write(result[\"text\"])\n",
    "    \n",
    "    with open('transcript.txt', 'r', encoding='utf-8') as file:\n",
    "        transcript = file.read()\n",
    "    final = summarize(transcript)\n",
    "    return final\n",
    "\n",
    "def read_sum(text_file):\n",
    "    with open(text_file, 'r', encoding='utf-8') as file:\n",
    "        transcript = file.read()\n",
    "    final = summarize(transcript)\n",
    "    return final"
   ]
  },
  {
   "cell_type": "code",
   "execution_count": 3,
   "metadata": {},
   "outputs": [
    {
     "name": "stdout",
     "output_type": "stream",
     "text": [
      "Running on local URL:  http://127.0.0.1:7861\n",
      "\n",
      "To create a public link, set `share=True` in `launch()`.\n"
     ]
    },
    {
     "data": {
      "text/html": [
       "<div><iframe src=\"http://127.0.0.1:7861/\" width=\"100%\" height=\"500\" allow=\"autoplay; camera; microphone; clipboard-read; clipboard-write;\" frameborder=\"0\" allowfullscreen></iframe></div>"
      ],
      "text/plain": [
       "<IPython.core.display.HTML object>"
      ]
     },
     "metadata": {},
     "output_type": "display_data"
    },
    {
     "data": {
      "text/plain": []
     },
     "execution_count": 3,
     "metadata": {},
     "output_type": "execute_result"
    },
    {
     "name": "stderr",
     "output_type": "stream",
     "text": [
      "All model checkpoint layers were used when initializing TFBartForConditionalGeneration.\n",
      "\n",
      "All the layers of TFBartForConditionalGeneration were initialized from the model checkpoint at FT_model.\n",
      "If your task is similar to the task the model of the checkpoint was trained on, you can already use TFBartForConditionalGeneration for predictions without further training.\n"
     ]
    }
   ],
   "source": [
    "with gr.Blocks() as demo:\n",
    "    demo.title=\"Podscast Summarization\"\n",
    "    with gr.Tab(\"Upload audio\"):\n",
    "        gr.Interface(\n",
    "        title='Podcast Summarization',\n",
    "        fn=transcribe_sum,\n",
    "        inputs=gr.File(label='Upload Audio File', file_types=[\"audio\"]),\n",
    "        outputs=gr.Textbox(lines=8, show_copy_button=True, label='Summarized Output'),\n",
    "        submit_btn=\"Generate\",\n",
    "        clear_btn=None)\n",
    "        \n",
    "    with gr.Tab(\"Upload Text\"):\n",
    "        title=\"Podcast Summarization\"\n",
    "        gr.Interface(\n",
    "        title='Podcast Summarization',\n",
    "        fn=read_sum,\n",
    "        inputs=gr.File(label='Upload Text File', file_types=[\"text\"]),\n",
    "        outputs=gr.Textbox(lines=8, show_copy_button=True, label='Summarized Output'),\n",
    "        submit_btn=\"Generate\",\n",
    "        clear_btn=None)\n",
    "\n",
    "    with gr.Tab(\"Input Text\"):\n",
    "        gr.Interface(\n",
    "        title='Podcast Summarization',\n",
    "        fn=summarize,\n",
    "        inputs=gr.Textbox(lines=8, placeholder='Enter Text Here...', label='Input text'),\n",
    "        outputs=gr.Textbox(lines=8, show_copy_button=True, label='Summarized Output'),\n",
    "        submit_btn=\"Generate\",\n",
    "        clear_btn=None)\n",
    "\n",
    "demo.launch()"
   ]
  }
 ],
 "metadata": {
  "kernelspec": {
   "display_name": "Python 3",
   "language": "python",
   "name": "python3"
  },
  "language_info": {
   "codemirror_mode": {
    "name": "ipython",
    "version": 3
   },
   "file_extension": ".py",
   "mimetype": "text/x-python",
   "name": "python",
   "nbconvert_exporter": "python",
   "pygments_lexer": "ipython3",
   "version": "3.11.7"
  }
 },
 "nbformat": 4,
 "nbformat_minor": 2
}
