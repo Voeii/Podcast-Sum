{
 "cells": [
  {
   "cell_type": "code",
   "execution_count": 2,
   "metadata": {},
   "outputs": [
    {
     "name": "stderr",
     "output_type": "stream",
     "text": [
      "All model checkpoint layers were used when initializing TFBartForConditionalGeneration.\n",
      "\n",
      "All the layers of TFBartForConditionalGeneration were initialized from the model checkpoint at FT_model.\n",
      "If your task is similar to the task the model of the checkpoint was trained on, you can already use TFBartForConditionalGeneration for predictions without further training.\n"
     ]
    },
    {
     "name": "stdout",
     "output_type": "stream",
     "text": [
      "\n",
      "Summarization:\n",
      "In this episode, we discuss emotional manipulation and what to look out for when dealing with someone who may be trying to emotionally manipulate you. We also discuss how to recognize when someone is trying to manipulate you and how to deal with it. \n"
     ]
    }
   ],
   "source": [
    "from transformers import BartTokenizer, TFBartForConditionalGeneration\n",
    "import whisper\n",
    "model = whisper.load_model(\"base.en\")\n",
    "\n",
    "def main(transcript):\n",
    "    model_dir = \"FT_model\"\n",
    "    tokenizer = BartTokenizer.from_pretrained(\"FT_model/tokenizer\")\n",
    "    model = TFBartForConditionalGeneration.from_pretrained(model_dir)\n",
    "\n",
    "    input_ids = tokenizer(transcript, truncation=True, return_tensors=\"pt\").input_ids\n",
    "    gens = {\n",
    "        \"length_penalty\": 2.0,\n",
    "        \"num_beams\": 4,\n",
    "        \"no_repeat_ngram_size\": 3,\n",
    "        \"min_length\": 39,\n",
    "        \"max_length\": 250\n",
    "    }\n",
    "    output = model.generate(input_ids, **gens)\n",
    "    summ = tokenizer.decode(output[0], skip_special_tokens=True)\n",
    "\n",
    "    print(f\"\\nSummarization:\\n{summ}\")\n",
    "\n",
    "result = model.transcribe(\"Thegodlydating(podcast episode).mp3\")\n",
    "\n",
    "with open(\"transcript.txt\", \"w\") as file:\n",
    "    file.write(result[\"text\"])\n",
    "    \n",
    "with open('transcript.txt', 'r', encoding='utf-8') as file:\n",
    "    transcript = file.read()\n",
    "\n",
    "main(transcript)\n"
   ]
  }
 ],
 "metadata": {
  "kernelspec": {
   "display_name": "Python 3",
   "language": "python",
   "name": "python3"
  },
  "language_info": {
   "codemirror_mode": {
    "name": "ipython",
    "version": 3
   },
   "file_extension": ".py",
   "mimetype": "text/x-python",
   "name": "python",
   "nbconvert_exporter": "python",
   "pygments_lexer": "ipython3",
   "version": "3.11.7"
  }
 },
 "nbformat": 4,
 "nbformat_minor": 2
}
